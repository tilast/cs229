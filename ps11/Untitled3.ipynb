{
 "cells": [
  {
   "cell_type": "code",
   "execution_count": 30,
   "metadata": {
    "collapsed": false
   },
   "outputs": [
    {
     "data": {
      "image/png": "[encoded data removed]",
      "text/plain": [
       "<matplotlib.figure.Figure at 0x1091fbe10>"
      ]
     },
     "metadata": {},
     "output_type": "display_data"
    }
   ],
   "source": [
    "import matplotlib.pyplot as plt\n",
    "from matplotlib  import cm\n",
    "import numpy as np\n",
    "\n",
    "fig = plt.figure(figsize=(6,6))\n",
    "ax = fig.add_subplot(111)\n",
    "ax.set_title(\"X1/X2\",fontsize=14)\n",
    "ax.set_xlabel(\"X1\",fontsize=12)\n",
    "ax.set_ylabel(\"X2\",fontsize=12)\n",
    "ax.grid(True,linestyle='-',color='0.75')\n",
    "x = np.random.random(15)\n",
    "y = np.random.random(15)\n",
    "z = np.zeros(15)\n",
    "\n",
    "# scatter with colormap mapping to z value\n",
    "ax.scatter(x,y,s=20,c='blue', marker='x');\n",
    "x = np.random.random(15)\n",
    "y = np.random.random(15)\n",
    "z = np.ones(15)\n",
    "ax.scatter(x,y,s=20,c='red', marker='o');\n",
    "\n",
    "plt.show()\n"
   ]
  },
  {
   "cell_type": "code",
   "execution_count": null,
   "metadata": {
    "collapsed": true
   },
   "outputs": [],
   "source": []
  }
 ],
 "metadata": {
  "kernelspec": {
   "display_name": "Python 3",
   "language": "python",
   "name": "python3"
  },
  "language_info": {
   "codemirror_mode": {
    "name": "ipython",
    "version": 3
   },
   "file_extension": ".py",
   "mimetype": "text/x-python",
   "name": "python",
   "nbconvert_exporter": "python",
   "pygments_lexer": "ipython3",
   "version": "3.6.0"
  }
 },
 "nbformat": 4,
 "nbformat_minor": 2
}
