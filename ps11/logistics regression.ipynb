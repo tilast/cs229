{
 "cells": [
  {
   "cell_type": "code",
   "execution_count": 98,
   "metadata": {
    "collapsed": false
   },
   "outputs": [
    {
     "name": "stdout",
     "output_type": "stream",
     "text": [
      "99\n",
      "99\n"
     ]
    }
   ],
   "source": [
    "import numpy as np\n",
    "from numpy.linalg import inv, norm\n",
    "\n",
    "# xs = fopen('./logistic_x.txt', 'r')\n",
    "# ys = fopen('./logistic_y.txt', 'r')\n",
    "\n",
    "with open('./logistic_x.txt', 'r') as xs_file:\n",
    "    xs = np.array([np.concatenate(([1], [float(xp.strip()) for xp in x.strip().split('  ')])) for x in xs_file.readlines()])\n",
    "\n",
    "with open('./logistic_y.txt', 'r') as ys_file:\n",
    "    ys = np.array([int(float(y.strip())) for y in ys_file.readlines()])\n",
    "\n",
    "print(len(xs))\n",
    "print(len(ys))\n"
   ]
  },
  {
   "cell_type": "code",
   "execution_count": 99,
   "metadata": {
    "collapsed": false
   },
   "outputs": [
    {
     "name": "stdout",
     "output_type": "stream",
     "text": [
      "0.69314718056\n"
     ]
    }
   ],
   "source": [
    "m = len(xs)\n",
    "    \n",
    "def newton_minimize(f, g, h, x0, eps):\n",
    "    x_prev = x0\n",
    "    x = x0 - inv(h(x0)).dot(g(x0))\n",
    "\n",
    "    while norm(x - x_prev) > eps:\n",
    "        x_prev = x\n",
    "        x = x - inv(h(x)).dot(g(x))\n",
    "\n",
    "    return x\n",
    "\n",
    "def lg(z):\n",
    "    return 1 / (1 + np.e ** (-z))\n",
    "\n",
    "def h_t(t, y, x):\n",
    "    return lg(y * np.dot(t, x))\n",
    "\n",
    "def loss(t):\n",
    "    return 1 / m * sum([np.log(1 + np.e ** (-ys[i] * np.dot(t, xs[i]))) for i in range(m)])\n",
    "\n",
    "print(loss(np.array([0, 0, 0])))\n",
    "\n",
    "def loss_gradient(t):\n",
    "    t_len = len(t)\n",
    "    return np.array([- 1 / m * sum([(1 - h_t(t, ys[i], xs[i])) * ys[i] * xs[i][j] for i in range(m)]) for j in range(t_len)])\n",
    "\n",
    "# loss_gradient(np.array([1, 1, 1]))\n",
    "\n",
    "def loss_hessian(t):\n",
    "    t_len = len(t)\n",
    "    return np.array(\n",
    "        [[1 / m * sum([xs[i][k] * xs[i][s] * h_t(t, ys[i], xs[i]) * (1 - h_t(t, ys[i], xs[i]))  for i in range(m)]) for s in range(t_len)] for k in range(t_len)]\n",
    "    )\n",
    "\n",
    "# loss_hessian(np.array([1, 1, 1]))"
   ]
  },
  {
   "cell_type": "code",
   "execution_count": 100,
   "metadata": {
    "collapsed": false
   },
   "outputs": [],
   "source": [
    "# test\n",
    "# a = 5\n",
    "# b = 10\n",
    "# f = lambda x: (x[0] - a)**2 + (x[1] - b)**2\n",
    "# g = lambda x: np.array([2 * (x[0] - a), 2 * (x[1] - b)])\n",
    "# h = lambda x: np.array([\n",
    "#     [2*x[0], 0],\n",
    "#     [0, 2*x[1]]\n",
    "# ])\n",
    "\n",
    "# newton_minimize(f, g, h, np.array([0.01, 0.01]), 0.0001)"
   ]
  },
  {
   "cell_type": "code",
   "execution_count": 101,
   "metadata": {
    "collapsed": false
   },
   "outputs": [],
   "source": [
    "# def newton_minimize(f, g, h, x0, eps):\n",
    "t = np.array([0.0,0.0,0.0])\n",
    "thetas = newton_minimize(loss, loss_gradient, loss_hessian, t, 0.001)"
   ]
  },
  {
   "cell_type": "code",
   "execution_count": 102,
   "metadata": {
    "collapsed": false
   },
   "outputs": [
    {
     "data": {
      "text/plain": [
       "array([-2.6205116 ,  0.76037154,  1.17194674])"
      ]
     },
     "execution_count": 102,
     "metadata": {},
     "output_type": "execute_result"
    }
   ],
   "source": [
    "thetas"
   ]
  },
  {
   "cell_type": "code",
   "execution_count": 103,
   "metadata": {
    "collapsed": false
   },
   "outputs": [
    {
     "data": {
      "text/plain": [
       "-3.1591766713827929"
      ]
     },
     "execution_count": 103,
     "metadata": {},
     "output_type": "execute_result"
    }
   ],
   "source": [
    "np.dot([1, 1.3432504e+00, -1.3311479e+00], thetas)"
   ]
  },
  {
   "cell_type": "code",
   "execution_count": 104,
   "metadata": {
    "collapsed": false
   },
   "outputs": [
    {
     "data": {
      "text/plain": [
       "-1.9800122041938901"
      ]
     },
     "execution_count": 104,
     "metadata": {},
     "output_type": "execute_result"
    }
   ],
   "source": [
    "np.dot([1, 1.8205529e+00, -6.3466810e-01], thetas)"
   ]
  },
  {
   "cell_type": "code",
   "execution_count": 105,
   "metadata": {
    "collapsed": false
   },
   "outputs": [],
   "source": [
    "results = [(np.dot(xs[i], thetas), np.sign(np.dot(xs[i], thetas)), ys[i]) for i in range(m)]"
   ]
  },
  {
   "cell_type": "code",
   "execution_count": 106,
   "metadata": {
    "collapsed": true
   },
   "outputs": [],
   "source": [
    "trues = [r for r in results if r[1] == r[2]]"
   ]
  },
  {
   "cell_type": "code",
   "execution_count": 107,
   "metadata": {
    "collapsed": false
   },
   "outputs": [
    {
     "data": {
      "text/plain": [
       "0.8888888888888888"
      ]
     },
     "execution_count": 107,
     "metadata": {},
     "output_type": "execute_result"
    }
   ],
   "source": [
    "len(trues) / len(results)"
   ]
  },
  {
   "cell_type": "code",
   "execution_count": null,
   "metadata": {
    "collapsed": false
   },
   "outputs": [],
   "source": []
  },
  {
   "cell_type": "code",
   "execution_count": 108,
   "metadata": {
    "collapsed": false
   },
   "outputs": [],
   "source": [
    "import matplotlib"
   ]
  },
  {
   "cell_type": "code",
   "execution_count": 109,
   "metadata": {
    "collapsed": true
   },
   "outputs": [],
   "source": [
    "%matplotlib inline"
   ]
  },
  {
   "cell_type": "code",
   "execution_count": 110,
   "metadata": {
    "collapsed": true
   },
   "outputs": [],
   "source": [
    "import matplotlib.pyplot as plt"
   ]
  },
  {
   "cell_type": "code",
   "execution_count": 111,
   "metadata": {
    "collapsed": false
   },
   "outputs": [],
   "source": [
    "import matplotlib.pyplot as plt\n",
    "import plotly.plotly as py\n",
    "import plotly.tools as tls"
   ]
  },
  {
   "cell_type": "code",
   "execution_count": 113,
   "metadata": {
    "collapsed": false
   },
   "outputs": [
    {
     "data": {
      "image/png": "[encoded data removed]",
      "text/plain": [
       "<matplotlib.figure.Figure at 0x10c32d390>"
      ]
     },
     "metadata": {},
     "output_type": "display_data"
    }
   ],
   "source": [
    "def plot_line(x):\n",
    "    return (-thetas[0] - thetas[1] * x) / thetas[2];\n",
    "\n",
    "x1_data = [xs[i] for i in range(m) if ys[i] == 1]\n",
    "x_minus_1_data = [xs[i] for i in range(m) if ys[i] == -1]\n",
    "x1_1 = np.array(x1_data)[:,1]\n",
    "x1_2 = np.array(x1_data)[:,2]\n",
    "\n",
    "x_minus_11 = np.array(x_minus_1_data)[:,1]\n",
    "x_minus_12 = np.array(x_minus_1_data)[:,2]\n",
    "\n",
    "fig = plt.figure(figsize=(6,6))\n",
    "ax = fig.add_subplot(111)\n",
    "ax.set_title(\"X1/X2\",fontsize=14)\n",
    "ax.set_xlabel(\"X1\",fontsize=12)\n",
    "ax.set_ylabel(\"X2\",fontsize=12)\n",
    "ax.grid(True,linestyle='-',color='0.75')\n",
    "\n",
    "ax.scatter(x1_1,x1_2,s=20,c='blue', marker='x');\n",
    "\n",
    "ax.scatter(x_minus_11,x_minus_12,s=20,c='red', marker='o');\n",
    "\n",
    "x1s = np.array([plot_line(x) for x in xs[:,1]])\n",
    "\n",
    "plt.plot(xs[:,1], x1s)\n",
    "\n",
    "plt.show()\n"
   ]
  },
  {
   "cell_type": "code",
   "execution_count": null,
   "metadata": {
    "collapsed": false
   },
   "outputs": [],
   "source": []
  },
  {
   "cell_type": "code",
   "execution_count": null,
   "metadata": {
    "collapsed": true
   },
   "outputs": [],
   "source": []
  }
 ],
 "metadata": {
  "kernelspec": {
   "display_name": "Python 3",
   "language": "python",
   "name": "python3"
  },
  "language_info": {
   "codemirror_mode": {
    "name": "ipython",
    "version": 3
   },
   "file_extension": ".py",
   "mimetype": "text/x-python",
   "name": "python",
   "nbconvert_exporter": "python",
   "pygments_lexer": "ipython3",
   "version": "3.6.0"
  }
 },
 "nbformat": 4,
 "nbformat_minor": 2
}
